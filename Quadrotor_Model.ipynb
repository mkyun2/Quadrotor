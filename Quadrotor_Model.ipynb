{
 "cells": [
  {
   "cell_type": "code",
   "execution_count": 2,
   "metadata": {},
   "outputs": [],
   "source": [
    "############################################################\n",
    "# Kim, Myeongkyun, GIST, BioRobotics\n",
    "# maengkyun@gm.gist.ac.kr\n",
    "############################################################ \n",
    "# Quadrotor Simplified Dynamics\n",
    "############################################################\n",
    "import sympy as sp\n",
    "import numpy as np"
   ]
  },
  {
   "cell_type": "code",
   "execution_count": 182,
   "metadata": {},
   "outputs": [],
   "source": [
    "#Force & Torque Relation between Quadrotor and each rotor\n",
    "Ft=sp.symbols('F_T') \n",
    "tau_phi=sp.symbols('tau_phi') \n",
    "tau_theta=sp.symbols('tau_theta') \n",
    "tau_psi=sp.symbols('tau_psi') \n",
    "L=sp.symbols('L')\n",
    "A=sp.symbols('A')\n",
    "m=sp.symbols('m')\n",
    "\n",
    "T = sp.Matrix([\n",
    "    [1, 1, 1, 1], \n",
    "    [L/np.sqrt(2), -L/np.sqrt(2), -L/np.sqrt(2), L/np.sqrt(2)],\n",
    "    [-L/np.sqrt(2), -L/np.sqrt(2), L/np.sqrt(2), L/np.sqrt(2)],\n",
    "    [A, -A, +A, -A]\n",
    "])\n",
    "#Rotor variable\n",
    "F1=sp.symbols('F_1')\n",
    "F2=sp.symbols('F_2')\n",
    "F3=sp.symbols('F_3')\n",
    "F4=sp.symbols('F_4')\n",
    "\n",
    "#Command Force and Torque of Quadrotorin Body coordinates\n",
    "M_c=sp.Matrix([ [Ft],\n",
    "                [tau_phi],\n",
    "                [tau_theta],\n",
    "                [tau_psi]])\n",
    "#Force of each rotor in Body coordinates\n",
    "M=sp.Matrix([   [F1],\n",
    "                [F2],\n",
    "                [F3],\n",
    "                [F4]])\n",
    "        \n",
    "#Force of each rotor in Body coordinates\n",
    "f = sp.Inverse(T)@M_c\n",
    "#Force and Torque of Quadrotor in Body coordinates\n",
    "F=T@M\n",
    "\n",
    "\n"
   ]
  },
  {
   "cell_type": "code",
   "execution_count": 180,
   "metadata": {},
   "outputs": [
    {
     "data": {
      "text/latex": [
       "$\\displaystyle \\left[\\begin{matrix}\\frac{\\tau_{\\phi}}{I_{xx}} + \\frac{\\tau_{\\psi} \\sin{\\left(\\theta \\right)} \\cos{\\left(\\phi \\right)}}{I_{xx} \\left(\\sin^{2}{\\left(\\phi \\right)} \\cos{\\left(\\theta \\right)} + \\cos^{2}{\\left(\\phi \\right)} \\cos{\\left(\\theta \\right)}\\right)} + \\frac{\\tau_{\\theta} \\sin{\\left(\\phi \\right)} \\sin{\\left(\\theta \\right)}}{I_{xx} \\left(\\sin^{2}{\\left(\\phi \\right)} \\cos{\\left(\\theta \\right)} + \\cos^{2}{\\left(\\phi \\right)} \\cos{\\left(\\theta \\right)}\\right)}\\\\- \\frac{\\tau_{\\psi} \\sin{\\left(\\phi \\right)}}{I_{yy} \\left(\\sin^{2}{\\left(\\phi \\right)} + \\cos^{2}{\\left(\\phi \\right)}\\right)} + \\frac{\\tau_{\\theta} \\cos{\\left(\\phi \\right)}}{I_{yy} \\left(\\sin^{2}{\\left(\\phi \\right)} + \\cos^{2}{\\left(\\phi \\right)}\\right)}\\\\\\frac{\\tau_{\\psi} \\cos{\\left(\\phi \\right)}}{I_{zz} \\left(\\sin^{2}{\\left(\\phi \\right)} \\cos{\\left(\\theta \\right)} + \\cos^{2}{\\left(\\phi \\right)} \\cos{\\left(\\theta \\right)}\\right)} + \\frac{\\tau_{\\theta} \\sin{\\left(\\phi \\right)}}{I_{zz} \\left(\\sin^{2}{\\left(\\phi \\right)} \\cos{\\left(\\theta \\right)} + \\cos^{2}{\\left(\\phi \\right)} \\cos{\\left(\\theta \\right)}\\right)}\\end{matrix}\\right]$"
      ],
      "text/plain": [
       "Matrix([\n",
       "[tau_phi/I_xx + tau_psi*sin(theta)*cos(phi)/(I_xx*(sin(phi)**2*cos(theta) + cos(phi)**2*cos(theta))) + tau_theta*sin(phi)*sin(theta)/(I_xx*(sin(phi)**2*cos(theta) + cos(phi)**2*cos(theta)))],\n",
       "[                                                                                -tau_psi*sin(phi)/(I_yy*(sin(phi)**2 + cos(phi)**2)) + tau_theta*cos(phi)/(I_yy*(sin(phi)**2 + cos(phi)**2))],\n",
       "[                                     tau_psi*cos(phi)/(I_zz*(sin(phi)**2*cos(theta) + cos(phi)**2*cos(theta))) + tau_theta*sin(phi)/(I_zz*(sin(phi)**2*cos(theta) + cos(phi)**2*cos(theta)))]])"
      ]
     },
     "execution_count": 180,
     "metadata": {},
     "output_type": "execute_result"
    }
   ],
   "source": [
    "#Quadrotor Simplified Dynamics\n",
    "# w : angular velocity in the body frame\n",
    "# I : inertia\n",
    "# C: Relation of angular velocity from Navigation Frame  to Body Frame \n",
    "# eta : euler angle of quadrotor in the navigation frame\n",
    "\n",
    "#Euler - Body Relation\n",
    "# v : linear velocity in the body frame\n",
    "# phi,theta, psi : euler angle in the navigation frame\n",
    "# R: Rotation Matrix X-Y-Z order\n",
    "# p_pp: acceleration of quadrotor in the navigation frame\n",
    "phi=sp.symbols('phi')\n",
    "theta=sp.symbols('theta')\n",
    "psi=sp.symbols('psi')\n",
    "vx_p=sp.symbols('vx_p')\n",
    "vy_p=sp.symbols('vy_p')\n",
    "vz_p=sp.symbols('vz_p')\n",
    "m=sp.symbols('m')\n",
    "g=sp.symbols('g')\n",
    "\n",
    "v_p = sp.Matrix([ [0],\n",
    "                [0],\n",
    "                [vz_p]])\n",
    "g=sp.Matrix([\n",
    "        [0],\n",
    "        [0],\n",
    "        [9.81]\n",
    "        ])\n",
    "#x_pp = -1/m*(sp.cos(phi)*sp.sin(theta)*sp.cos(psi)+sp.sin(phi)*sp.sin(psi))*vx_p\n",
    "#y_pp = -1/m*(sp.cos(phi)*sp.sin(theta)*sp.sin(psi)-sp.sin(phi)*sp.cos(psi))*vy_p\n",
    "#z_pp = g-1/m*(sp.cos(phi)*sp.cos(theta))*vz_p\n",
    "\n",
    "R_x = sp.Matrix([   [1,           0,            0],\n",
    "                    [0, sp.cos(phi), -sp.sin(phi)],\n",
    "                    [0, sp.sin(phi),  sp.cos(phi)]])\n",
    "\n",
    "R_y = sp.Matrix([   [sp.cos(theta), 0, sp.sin(theta)],\n",
    "                    [0,             1,            0],\n",
    "                    [-sp.sin(theta), 0,  sp.cos(theta)]])\n",
    "\n",
    "R_z = sp.Matrix([   [sp.cos(psi), -sp.sin(psi),       0],\n",
    "                    [sp.sin(psi),  sp.cos(psi),       0],\n",
    "                    [0,                      0,       1]])\n",
    "R=R_z@R_y@R_x\n",
    "#Force in the Navigation frame\n",
    "p_pp = R@v_p-g\n",
    "p_pp \n",
    "\n",
    "\n",
    "phi_p=sp.symbols('phi_p')\n",
    "theta_p=sp.symbols('theta_p')\n",
    "psi_p=sp.symbols('psi_p')\n",
    "\n",
    "I_xx=sp.symbols('I_xx')\n",
    "I_yy=sp.symbols('I_yy')\n",
    "I_zz=sp.symbols('I_zz')\n",
    "T_body=sp.Matrix([\n",
    "                [tau_phi],\n",
    "                [tau_theta],\n",
    "                [tau_psi]\n",
    "                ])\n",
    "w_p=R_x.T@R_y.T@sp.Matrix([[0],[0],[psi_p]])+R_x.T@sp.Matrix([[0],[theta_p],[0]])+sp.Matrix([[phi_p],[0],[0]])\n",
    "I=sp.Matrix([\n",
    "            [I_xx,  0,     0],\n",
    "            [0,  I_yy,     0],\n",
    "            [0,     0,  I_zz]\n",
    "            ])\n",
    "C=sp.Matrix([\n",
    "            [1,    0,  -sp.sin(theta)],\n",
    "            [0, sp.cos(phi),    sp.sin(phi)*sp.cos(theta)],\n",
    "            [0, -sp.sin(phi),   sp.cos(phi)*sp.cos(theta)]\n",
    "            ])\n",
    "eta_p = sp.Matrix([[phi_p],[theta_p],[psi_p]])\n",
    "#Torque in the Navigation frame\n",
    "eta_pp=sp.Inverse(I)@sp.Inverse(C)@T_body\n",
    "eta_pp\n",
    "\n",
    "\n"
   ]
  },
  {
   "cell_type": "code",
   "execution_count": 186,
   "metadata": {},
   "outputs": [
    {
     "data": {
      "text/latex": [
       "$\\displaystyle \\left[\\begin{matrix}\\phi_{pp} - \\psi_{pp} \\sin{\\left(\\theta \\right)}\\\\\\psi_{pp} \\sin{\\left(\\phi \\right)} \\cos{\\left(\\theta \\right)} + \\theta_{pp} \\cos{\\left(\\phi \\right)}\\\\\\psi_{pp} \\cos{\\left(\\phi \\right)} \\cos{\\left(\\theta \\right)} - \\theta_{pp} \\sin{\\left(\\phi \\right)}\\end{matrix}\\right]$"
      ],
      "text/plain": [
       "Matrix([\n",
       "[                    phi_pp - psi_pp*sin(theta)],\n",
       "[psi_pp*sin(phi)*cos(theta) + theta_pp*cos(phi)],\n",
       "[psi_pp*cos(phi)*cos(theta) - theta_pp*sin(phi)]])"
      ]
     },
     "execution_count": 186,
     "metadata": {},
     "output_type": "execute_result"
    }
   ],
   "source": [
    "# Throttle Relation from Body Frame to Navigation Frame \n",
    "x_pp = sp.symbols('x_pp')\n",
    "y_pp = sp.symbols('y_pp')\n",
    "z_pp = sp.symbols('z_pp')\n",
    "phi_pp = sp.symbols('phi_pp')\n",
    "theta_pp = sp.symbols('theta_pp')\n",
    "psi_pp = sp.symbols('psi_pp')\n",
    "eta_pp = sp.Matrix([[phi_pp],[theta_pp],[psi_pp]])\n",
    "\n",
    "#Z-axis Force in the Navigation Frame \n",
    "F = sp.Matrix([ [0],\n",
    "                [0],\n",
    "                [z_pp]])\n",
    "#Body Frame\n",
    "p_body_pp = R.T@F\n",
    "p_body_pp\n",
    "\n",
    "torque = C@eta_pp\n",
    "torque\n",
    "\n",
    "\n"
   ]
  },
  {
   "cell_type": "code",
   "execution_count": null,
   "metadata": {},
   "outputs": [],
   "source": [
    "# Omega1 = sp.symbols('Omega_1')\n",
    "# Omega2 = sp.symbols('Omega_2')\n",
    "# Omega3 = sp.symbols('Omega_3')\n",
    "# Omega4 = sp.symbols('Omega_4')\n",
    "# dp=sp.symbols('d_p')\n",
    "# bp=sp.symbols('b_p')\n",
    "# F1 = dp*Omega1*Omega1\n",
    "# F2 = dp*Omega2*Omega2\n",
    "# F3 = dp*Omega3*Omega3\n",
    "# F4 = dp*Omega4*Omega4\n",
    "# F1=sp.symbols('F_1')\n",
    "# F2=sp.symbols('F_2')\n",
    "# F3=sp.symbols('F_3')\n",
    "# F4=sp.symbols('F_4')\n",
    "#A  = bp*Omega4*Omega4/F4"
   ]
  }
 ],
 "metadata": {
  "kernelspec": {
   "display_name": "Python 3.7.11 ('gist')",
   "language": "python",
   "name": "python3"
  },
  "language_info": {
   "codemirror_mode": {
    "name": "ipython",
    "version": 3
   },
   "file_extension": ".py",
   "mimetype": "text/x-python",
   "name": "python",
   "nbconvert_exporter": "python",
   "pygments_lexer": "ipython3",
   "version": "3.7.11"
  },
  "orig_nbformat": 4,
  "vscode": {
   "interpreter": {
    "hash": "8f2c37f9b3c39cd8df97d32fd7b87fb70c659271996629332611469b4898182e"
   }
  }
 },
 "nbformat": 4,
 "nbformat_minor": 2
}
